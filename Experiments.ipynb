{
 "cells": [
  {
   "cell_type": "markdown",
   "metadata": {},
   "source": [
    "# Evaluating Jumping Knowledge Networks on Citeseer and Cora\n",
    "Here I try to replicate the evaluation of JK Networks described in the [Xu et al.](https://arxiv.org/abs/1806.03536). First Xu and colleagues test GCNs and GATs on the Citeseer and Cora datasets. They also test adding the Jumping Knowledge Aggregation to the GCN with LSTM, Max pooling and Concatenation aggregation methods. I will also test a simple MLP as a baseline. Xu and colleagues vary the number of layers from 1-6 (using a hidden layer size of 16 or 32) and choose the best performing model on the validation set then compare each of the best models on the test set. When testing I will use 3 different splits to report the mean and standard deviaiton of test accuracy."
   ]
  },
  {
   "cell_type": "code",
   "execution_count": 1,
   "metadata": {},
   "outputs": [],
   "source": [
    "from jk_networks import utils, models"
   ]
  },
  {
   "cell_type": "code",
   "execution_count": 2,
   "metadata": {},
   "outputs": [],
   "source": [
    "# import the CiteSeer dataset\n",
    "from torch_geometric.datasets import Planetoid\n",
    "citeseer = Planetoid(root='/tmp/CiteSeer', name='CiteSeer')"
   ]
  },
  {
   "cell_type": "code",
   "execution_count": 3,
   "metadata": {},
   "outputs": [],
   "source": [
    "from itertools import product\n",
    "from collections import defaultdict\n",
    "def get_gcn_accuracies(data):\n",
    "  num_layers = range(1, 7)\n",
    "  hidden_layer_size = [16, 32]\n",
    "  val_accuracies = defaultdict(dict)\n",
    "  for num_layers, hidden_layer_size in product(num_layers, hidden_layer_size):\n",
    "    gcn_model = models.GCN(data.num_features, [hidden_layer_size] * num_layers, data.num_classes)\n",
    "    graph = data[0]\n",
    "    utils.split_data_node_classification(graph, train_ratio=0.6, val_ratio=0.2)\n",
    "    utils.train(gcn_model, graph)\n",
    "    model_acc = utils.test(gcn_model, graph, graph.val_mask)\n",
    "    val_accuracies[num_layers][hidden_layer_size] = model_acc\n",
    "  return val_accuracies"
   ]
  },
  {
   "cell_type": "code",
   "execution_count": 4,
   "metadata": {},
   "outputs": [
    {
     "data": {
      "text/html": [
       "<div>\n",
       "<style scoped>\n",
       "    .dataframe tbody tr th:only-of-type {\n",
       "        vertical-align: middle;\n",
       "    }\n",
       "\n",
       "    .dataframe tbody tr th {\n",
       "        vertical-align: top;\n",
       "    }\n",
       "\n",
       "    .dataframe thead th {\n",
       "        text-align: right;\n",
       "    }\n",
       "</style>\n",
       "<table border=\"1\" class=\"dataframe\">\n",
       "  <thead>\n",
       "    <tr style=\"text-align: right;\">\n",
       "      <th></th>\n",
       "      <th>1</th>\n",
       "      <th>2</th>\n",
       "      <th>3</th>\n",
       "      <th>4</th>\n",
       "      <th>5</th>\n",
       "      <th>6</th>\n",
       "    </tr>\n",
       "  </thead>\n",
       "  <tbody>\n",
       "    <tr>\n",
       "      <th>16</th>\n",
       "      <td>0.651128</td>\n",
       "      <td>0.681203</td>\n",
       "      <td>0.518797</td>\n",
       "      <td>0.386466</td>\n",
       "      <td>0.317293</td>\n",
       "      <td>0.154887</td>\n",
       "    </tr>\n",
       "    <tr>\n",
       "      <th>32</th>\n",
       "      <td>0.718797</td>\n",
       "      <td>0.645113</td>\n",
       "      <td>0.502256</td>\n",
       "      <td>0.324812</td>\n",
       "      <td>0.345865</td>\n",
       "      <td>0.196992</td>\n",
       "    </tr>\n",
       "  </tbody>\n",
       "</table>\n",
       "</div>"
      ],
      "text/plain": [
       "           1         2         3         4         5         6\n",
       "16  0.651128  0.681203  0.518797  0.386466  0.317293  0.154887\n",
       "32  0.718797  0.645113  0.502256  0.324812  0.345865  0.196992"
      ]
     },
     "execution_count": 4,
     "metadata": {},
     "output_type": "execute_result"
    }
   ],
   "source": [
    "import pandas as pd\n",
    "\n",
    "val_accuracies = get_gcn_accuracies(citeseer)\n",
    "pd.DataFrame(val_accuracies, )"
   ]
  },
  {
   "cell_type": "code",
   "execution_count": null,
   "metadata": {},
   "outputs": [],
   "source": []
  }
 ],
 "metadata": {
  "language_info": {
   "name": "python"
  }
 },
 "nbformat": 4,
 "nbformat_minor": 2
}
